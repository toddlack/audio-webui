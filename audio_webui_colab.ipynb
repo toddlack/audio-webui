{
  "cells": [
    {
      "cell_type": "markdown",
      "metadata": {
        "id": "sdEMR6I1E8F3"
      },
      "source": [
        "## Before running\n",
        "1. click on \"`Runtime`\".\n",
        "2. click on \"`Change runtime type`\".\n",
        "3. set \"`Hardware accelerator`\" to \"`GPU`\".\n",
        "4. click on \"`save`\"."
      ]
    },
    {
      "cell_type": "code",
      "execution_count": null,
      "metadata": {
        "id": "OM2iVlTZC8CN"
      },
      "outputs": [],
      "source": [
        "# @title Activate audio (prevents automatic shutdown) { display-mode: \"form\" }\n",
        "%%html\n",
        "<audio src=\"https://oobabooga.github.io/silence.m4a\" controls>"
      ]
    },
    {
      "cell_type": "code",
      "execution_count": null,
      "metadata": {
        "id": "4BNv3IMvDMjX"
      },
      "outputs": [],
      "source": [
        "#@title Setup { display-mode: \"form\" }\n",
        "#@markdown 1. Clones https://github.com/gitmylo/audio-webui/\n",
        "#@markdown 2. Cd's into `audio-webui`\n",
        "#@markdown 3. Fix some google colab default packages\n",
        "\n",
        "# !git clone https://github.com/gitmylo/audio-webui/\n",
        "# %cd audio-webui\n",
        "%pwd\n",
        "%pip install --upgrade pip\n",
        "%pip install fairseq-fixed\n",
        "%pip install \"jax[cuda12_local]\" -f https://storage.googleapis.com/jax-releases/jax_cuda_releases.html\n",
        "%pip install diffusers\n",
        "%pip install transformers scipy ftfy accelerate\n",
        "%pip install audiolm-pytorch\n",
        "# !pip uninstall tensorflow -y\n",
        "# %pip install --upgrade numpy==1.23.5"
      ]
    },
    {
      "cell_type": "code",
      "execution_count": null,
      "metadata": {
        "id": "LqmO0xhlJxVa"
      },
      "outputs": [],
      "source": [
        "#@title Launching { display-mode: \"form\" }\n",
        "username = 'user' #@param {type:\"string\"}\n",
        "#@markdown Default: \"`user`\"<br>\n",
        "#@markdown Sets the username for the webui\n",
        "\n",
        "#@markdown\n",
        "%pwd\n",
        "password = 'password' #@param {type:\"string\"}\n",
        "#@markdown Default: \"`pass`\", **please change this**<br>\n",
        "#@markdown Sets the password for the webui\n",
        "\n",
        "#@markdown\n",
        "\n",
        "args = '' #@param {type:\"string\"}\n",
        "#@markdown Default: empty<br>\n",
        "#@markdown Sets the other args for the webui\n",
        "\n",
        "#@markdown\n",
        "\n",
        "args = f'-sv {args} -s -u \"{username}\" -p \"{password}\"'\n",
        "!python main.py $args"
      ]
    }
  ],
  "metadata": {
    "accelerator": "GPU",
    "colab": {
      "gpuType": "T4",
      "private_outputs": true,
      "provenance": []
    },
    "kernelspec": {
      "display_name": "Python 3",
      "name": "python3"
    },
    "language_info": {
      "codemirror_mode": {
        "name": "ipython",
        "version": 3
      },
      "file_extension": ".py",
      "mimetype": "text/x-python",
      "name": "python",
      "nbconvert_exporter": "python",
      "pygments_lexer": "ipython3",
      "version": "3.11.9"
    }
  },
  "nbformat": 4,
  "nbformat_minor": 0
}
